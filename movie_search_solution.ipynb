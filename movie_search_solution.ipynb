{
 "cells": [
  {
   "cell_type": "code",
   "execution_count": 3,
   "id": "e7aced71-dd47-44aa-9b7a-de38d0c06fae",
   "metadata": {},
   "outputs": [
    {
     "name": "stdout",
     "output_type": "stream",
     "text": [
      "Requirement already satisfied: sentence-transformers in c:\\users\\suman\\onedrive\\desktop\\movie-search-assignment\\venv\\lib\\site-packages (5.1.0)\n",
      "Requirement already satisfied: pandas in c:\\users\\suman\\onedrive\\desktop\\movie-search-assignment\\venv\\lib\\site-packages (2.3.2)\n",
      "Requirement already satisfied: scikit-learn in c:\\users\\suman\\onedrive\\desktop\\movie-search-assignment\\venv\\lib\\site-packages (1.7.1)\n",
      "Requirement already satisfied: transformers<5.0.0,>=4.41.0 in c:\\users\\suman\\onedrive\\desktop\\movie-search-assignment\\venv\\lib\\site-packages (from sentence-transformers) (4.55.4)\n",
      "Requirement already satisfied: tqdm in c:\\users\\suman\\onedrive\\desktop\\movie-search-assignment\\venv\\lib\\site-packages (from sentence-transformers) (4.67.1)\n",
      "Requirement already satisfied: torch>=1.11.0 in c:\\users\\suman\\onedrive\\desktop\\movie-search-assignment\\venv\\lib\\site-packages (from sentence-transformers) (2.8.0)\n",
      "Requirement already satisfied: scipy in c:\\users\\suman\\onedrive\\desktop\\movie-search-assignment\\venv\\lib\\site-packages (from sentence-transformers) (1.16.1)\n",
      "Requirement already satisfied: huggingface-hub>=0.20.0 in c:\\users\\suman\\onedrive\\desktop\\movie-search-assignment\\venv\\lib\\site-packages (from sentence-transformers) (0.34.4)\n",
      "Requirement already satisfied: Pillow in c:\\users\\suman\\onedrive\\desktop\\movie-search-assignment\\venv\\lib\\site-packages (from sentence-transformers) (11.3.0)\n",
      "Requirement already satisfied: typing_extensions>=4.5.0 in c:\\users\\suman\\onedrive\\desktop\\movie-search-assignment\\venv\\lib\\site-packages (from sentence-transformers) (4.15.0)\n",
      "Requirement already satisfied: filelock in c:\\users\\suman\\onedrive\\desktop\\movie-search-assignment\\venv\\lib\\site-packages (from transformers<5.0.0,>=4.41.0->sentence-transformers) (3.19.1)\n",
      "Requirement already satisfied: numpy>=1.17 in c:\\users\\suman\\onedrive\\desktop\\movie-search-assignment\\venv\\lib\\site-packages (from transformers<5.0.0,>=4.41.0->sentence-transformers) (2.3.2)\n",
      "Requirement already satisfied: packaging>=20.0 in c:\\users\\suman\\onedrive\\desktop\\movie-search-assignment\\venv\\lib\\site-packages (from transformers<5.0.0,>=4.41.0->sentence-transformers) (25.0)\n",
      "Requirement already satisfied: pyyaml>=5.1 in c:\\users\\suman\\onedrive\\desktop\\movie-search-assignment\\venv\\lib\\site-packages (from transformers<5.0.0,>=4.41.0->sentence-transformers) (6.0.2)\n",
      "Requirement already satisfied: regex!=2019.12.17 in c:\\users\\suman\\onedrive\\desktop\\movie-search-assignment\\venv\\lib\\site-packages (from transformers<5.0.0,>=4.41.0->sentence-transformers) (2025.7.34)\n",
      "Requirement already satisfied: requests in c:\\users\\suman\\onedrive\\desktop\\movie-search-assignment\\venv\\lib\\site-packages (from transformers<5.0.0,>=4.41.0->sentence-transformers) (2.32.5)\n",
      "Requirement already satisfied: tokenizers<0.22,>=0.21 in c:\\users\\suman\\onedrive\\desktop\\movie-search-assignment\\venv\\lib\\site-packages (from transformers<5.0.0,>=4.41.0->sentence-transformers) (0.21.4)\n",
      "Requirement already satisfied: safetensors>=0.4.3 in c:\\users\\suman\\onedrive\\desktop\\movie-search-assignment\\venv\\lib\\site-packages (from transformers<5.0.0,>=4.41.0->sentence-transformers) (0.6.2)\n",
      "Requirement already satisfied: fsspec>=2023.5.0 in c:\\users\\suman\\onedrive\\desktop\\movie-search-assignment\\venv\\lib\\site-packages (from huggingface-hub>=0.20.0->sentence-transformers) (2025.7.0)\n",
      "Requirement already satisfied: python-dateutil>=2.8.2 in c:\\users\\suman\\onedrive\\desktop\\movie-search-assignment\\venv\\lib\\site-packages (from pandas) (2.9.0.post0)\n",
      "Requirement already satisfied: pytz>=2020.1 in c:\\users\\suman\\onedrive\\desktop\\movie-search-assignment\\venv\\lib\\site-packages (from pandas) (2025.2)\n",
      "Requirement already satisfied: tzdata>=2022.7 in c:\\users\\suman\\onedrive\\desktop\\movie-search-assignment\\venv\\lib\\site-packages (from pandas) (2025.2)\n",
      "Requirement already satisfied: joblib>=1.2.0 in c:\\users\\suman\\onedrive\\desktop\\movie-search-assignment\\venv\\lib\\site-packages (from scikit-learn) (1.5.1)\n",
      "Requirement already satisfied: threadpoolctl>=3.1.0 in c:\\users\\suman\\onedrive\\desktop\\movie-search-assignment\\venv\\lib\\site-packages (from scikit-learn) (3.6.0)\n",
      "Requirement already satisfied: six>=1.5 in c:\\users\\suman\\onedrive\\desktop\\movie-search-assignment\\venv\\lib\\site-packages (from python-dateutil>=2.8.2->pandas) (1.17.0)\n",
      "Requirement already satisfied: sympy>=1.13.3 in c:\\users\\suman\\onedrive\\desktop\\movie-search-assignment\\venv\\lib\\site-packages (from torch>=1.11.0->sentence-transformers) (1.14.0)\n",
      "Requirement already satisfied: networkx in c:\\users\\suman\\onedrive\\desktop\\movie-search-assignment\\venv\\lib\\site-packages (from torch>=1.11.0->sentence-transformers) (3.5)\n",
      "Requirement already satisfied: jinja2 in c:\\users\\suman\\onedrive\\desktop\\movie-search-assignment\\venv\\lib\\site-packages (from torch>=1.11.0->sentence-transformers) (3.1.6)\n",
      "Requirement already satisfied: setuptools in c:\\users\\suman\\onedrive\\desktop\\movie-search-assignment\\venv\\lib\\site-packages (from torch>=1.11.0->sentence-transformers) (80.9.0)\n",
      "Requirement already satisfied: mpmath<1.4,>=1.1.0 in c:\\users\\suman\\onedrive\\desktop\\movie-search-assignment\\venv\\lib\\site-packages (from sympy>=1.13.3->torch>=1.11.0->sentence-transformers) (1.3.0)\n",
      "Requirement already satisfied: colorama in c:\\users\\suman\\onedrive\\desktop\\movie-search-assignment\\venv\\lib\\site-packages (from tqdm->sentence-transformers) (0.4.6)\n",
      "Requirement already satisfied: MarkupSafe>=2.0 in c:\\users\\suman\\onedrive\\desktop\\movie-search-assignment\\venv\\lib\\site-packages (from jinja2->torch>=1.11.0->sentence-transformers) (3.0.2)\n",
      "Requirement already satisfied: charset_normalizer<4,>=2 in c:\\users\\suman\\onedrive\\desktop\\movie-search-assignment\\venv\\lib\\site-packages (from requests->transformers<5.0.0,>=4.41.0->sentence-transformers) (3.4.3)\n",
      "Requirement already satisfied: idna<4,>=2.5 in c:\\users\\suman\\onedrive\\desktop\\movie-search-assignment\\venv\\lib\\site-packages (from requests->transformers<5.0.0,>=4.41.0->sentence-transformers) (3.10)\n",
      "Requirement already satisfied: urllib3<3,>=1.21.1 in c:\\users\\suman\\onedrive\\desktop\\movie-search-assignment\\venv\\lib\\site-packages (from requests->transformers<5.0.0,>=4.41.0->sentence-transformers) (2.5.0)\n",
      "Requirement already satisfied: certifi>=2017.4.17 in c:\\users\\suman\\onedrive\\desktop\\movie-search-assignment\\venv\\lib\\site-packages (from requests->transformers<5.0.0,>=4.41.0->sentence-transformers) (2025.8.3)\n"
     ]
    }
   ],
   "source": [
    "#Install and import libraries\n",
    "!pip install sentence-transformers pandas scikit-learn\n",
    "\n",
    "# Import the libraries\n",
    "import pandas as pd\n",
    "from sentence_transformers import SentenceTransformer\n",
    "from sklearn.metrics.pairwise import cosine_similarity\n",
    "import numpy as np"
   ]
  },
  {
   "cell_type": "code",
   "execution_count": 4,
   "id": "adde974f-b98f-46d1-9a0e-d73ce3e5d3f3",
   "metadata": {},
   "outputs": [
    {
     "data": {
      "text/html": [
       "<div>\n",
       "<style scoped>\n",
       "    .dataframe tbody tr th:only-of-type {\n",
       "        vertical-align: middle;\n",
       "    }\n",
       "\n",
       "    .dataframe tbody tr th {\n",
       "        vertical-align: top;\n",
       "    }\n",
       "\n",
       "    .dataframe thead th {\n",
       "        text-align: right;\n",
       "    }\n",
       "</style>\n",
       "<table border=\"1\" class=\"dataframe\">\n",
       "  <thead>\n",
       "    <tr style=\"text-align: right;\">\n",
       "      <th></th>\n",
       "      <th>title</th>\n",
       "      <th>plot</th>\n",
       "    </tr>\n",
       "  </thead>\n",
       "  <tbody>\n",
       "    <tr>\n",
       "      <th>0</th>\n",
       "      <td>Spy Movie</td>\n",
       "      <td>A spy navigates intrigue in Paris to stop a te...</td>\n",
       "    </tr>\n",
       "    <tr>\n",
       "      <th>1</th>\n",
       "      <td>Romance in Paris</td>\n",
       "      <td>A couple falls in love in Paris under romantic...</td>\n",
       "    </tr>\n",
       "    <tr>\n",
       "      <th>2</th>\n",
       "      <td>Action Flick</td>\n",
       "      <td>A high-octane chase through New York with expl...</td>\n",
       "    </tr>\n",
       "  </tbody>\n",
       "</table>\n",
       "</div>"
      ],
      "text/plain": [
       "              title                                               plot\n",
       "0         Spy Movie  A spy navigates intrigue in Paris to stop a te...\n",
       "1  Romance in Paris  A couple falls in love in Paris under romantic...\n",
       "2      Action Flick  A high-octane chase through New York with expl..."
      ]
     },
     "execution_count": 4,
     "metadata": {},
     "output_type": "execute_result"
    }
   ],
   "source": [
    "# Load the movie dataset\n",
    "movies_df = pd.read_csv(\"movies.csv\")\n",
    "\n",
    "# Display the first few rows\n",
    "movies_df.head()\n"
   ]
  },
  {
   "cell_type": "code",
   "execution_count": 11,
   "id": "fed0f26a-f096-477f-b595-16595a075178",
   "metadata": {},
   "outputs": [
    {
     "name": "stderr",
     "output_type": "stream",
     "text": [
      "Batches: 100%|███████████████████████████████████████████████████████████████████████████| 1/1 [00:00<00:00, 12.53it/s]"
     ]
    },
    {
     "name": "stdout",
     "output_type": "stream",
     "text": [
      "Embeddings shape: (3, 384)\n"
     ]
    },
    {
     "name": "stderr",
     "output_type": "stream",
     "text": [
      "\n"
     ]
    }
   ],
   "source": [
    "#Create embeddings using all-MiniLM-L6-v2\n",
    "# Load the model\n",
    "model = SentenceTransformer('all-MiniLM-L6-v2')\n",
    "\n",
    "# Encode movie plots into numerical embeddings\n",
    "embeddings = model.encode(\n",
    "    movies_df['plot'].astype(str).tolist(),\n",
    "    show_progress_bar=True\n",
    ")\n",
    "print(\"Embeddings shape:\", embeddings.shape)"
   ]
  },
  {
   "cell_type": "code",
   "execution_count": 14,
   "id": "61f1a8ba-5d44-4169-a6fd-cef7fed1752a",
   "metadata": {},
   "outputs": [],
   "source": [
    "#Implement search_movies(query, top_n)\n",
    "def search_movies(query, top_n=10):\n",
    "    \"\"\"\n",
    "    Search for the top_n most similar movies to the query\n",
    "    using cosine similarity on the embeddings.\n",
    "    \"\"\"\n",
    "    if not isinstance(query, str) or query.strip() == \"\":\n",
    "        raise ValueError(\"Query must be a non-empty string.\")\n",
    "    \n",
    "    query_embedding = model.encode([query])\n",
    "\n",
    "    similarities = cosine_similarity(query_embedding, embeddings)[0]\n",
    "\n",
    "    top_indices = np.argsort(similarities)[::-1][:top_n]\n",
    "\n",
    "    results = movies_df.iloc[top_indices].copy()\n",
    "    results['similarity'] = similarities[top_indices]\n",
    "\n",
    "    return results[['title', 'plot', 'similarity']].reset_index(drop=True)\n"
   ]
  },
  {
   "cell_type": "code",
   "execution_count": 13,
   "id": "37e3d852-f72e-4acd-b15d-26859f468d70",
   "metadata": {},
   "outputs": [
    {
     "data": {
      "text/html": [
       "<div>\n",
       "<style scoped>\n",
       "    .dataframe tbody tr th:only-of-type {\n",
       "        vertical-align: middle;\n",
       "    }\n",
       "\n",
       "    .dataframe tbody tr th {\n",
       "        vertical-align: top;\n",
       "    }\n",
       "\n",
       "    .dataframe thead th {\n",
       "        text-align: right;\n",
       "    }\n",
       "</style>\n",
       "<table border=\"1\" class=\"dataframe\">\n",
       "  <thead>\n",
       "    <tr style=\"text-align: right;\">\n",
       "      <th></th>\n",
       "      <th>title</th>\n",
       "      <th>plot</th>\n",
       "      <th>similarity</th>\n",
       "    </tr>\n",
       "  </thead>\n",
       "  <tbody>\n",
       "    <tr>\n",
       "      <th>0</th>\n",
       "      <td>Spy Movie</td>\n",
       "      <td>A spy navigates intrigue in Paris to stop a te...</td>\n",
       "      <td>0.769684</td>\n",
       "    </tr>\n",
       "    <tr>\n",
       "      <th>1</th>\n",
       "      <td>Romance in Paris</td>\n",
       "      <td>A couple falls in love in Paris under romantic...</td>\n",
       "      <td>0.388030</td>\n",
       "    </tr>\n",
       "    <tr>\n",
       "      <th>2</th>\n",
       "      <td>Action Flick</td>\n",
       "      <td>A high-octane chase through New York with expl...</td>\n",
       "      <td>0.256777</td>\n",
       "    </tr>\n",
       "  </tbody>\n",
       "</table>\n",
       "</div>"
      ],
      "text/plain": [
       "              title                                               plot  \\\n",
       "0         Spy Movie  A spy navigates intrigue in Paris to stop a te...   \n",
       "1  Romance in Paris  A couple falls in love in Paris under romantic...   \n",
       "2      Action Flick  A high-octane chase through New York with expl...   \n",
       "\n",
       "   similarity  \n",
       "0    0.769684  \n",
       "1    0.388030  \n",
       "2    0.256777  "
      ]
     },
     "execution_count": 13,
     "metadata": {},
     "output_type": "execute_result"
    }
   ],
   "source": [
    "#Testing with query spy thriller in Paris\n",
    "search_movies(\"spy thriller in Paris\", top_n=5)"
   ]
  }
 ],
 "metadata": {
  "kernelspec": {
   "display_name": "Python 3 (ipykernel)",
   "language": "python",
   "name": "python3"
  },
  "language_info": {
   "codemirror_mode": {
    "name": "ipython",
    "version": 3
   },
   "file_extension": ".py",
   "mimetype": "text/x-python",
   "name": "python",
   "nbconvert_exporter": "python",
   "pygments_lexer": "ipython3",
   "version": "3.13.7"
  }
 },
 "nbformat": 4,
 "nbformat_minor": 5
}
